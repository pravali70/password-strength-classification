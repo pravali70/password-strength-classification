{
 "cells": [
  {
   "cell_type": "markdown",
   "id": "2e80d05b-12f6-4bea-b73a-10969e8182b8",
   "metadata": {},
   "source": [
    "📝 Project: Classification on Password Strength Dataset\n",
    "\n",
    "In this project, we work with a real-world dataset focused on password security. The dataset contains two columns:\n",
    "\n",
    "password: a string containing the user’s password\n",
    "\n",
    "strength: a label indicating the strength of the password (e.g., Weak, Medium, Strong, represented as 0, 1, 2)\n",
    "\n",
    "Our goal is to build a machine learning pipeline—from data preprocessing and feature extraction to model training and evaluation—to classify the strength of a password based on its characteristics."
   ]
  },
  {
   "cell_type": "markdown",
   "id": "3ad8d1f3-63ff-49d8-aec6-c0aedab9bf6f",
   "metadata": {},
   "source": [
    "🎯 Objective\n",
    "\n",
    "The main objective is to build and compare the performance of various classification models to accurately predict the strength of a given password. This classification helps in promoting strong password usage, enhancing cybersecurity awareness, and building tools that can automatically evaluate password quality.\n",
    "\n",
    "The models evaluated include:\n",
    "\n",
    "- Logistic Regression\n",
    "\n",
    "- Naive Bayes\n",
    "\n",
    "- Decision Tree\n",
    "\n",
    "- Random Forest\n",
    "\n",
    "- AdaBoost\n",
    "\n",
    "- XGBoost\n",
    "\n",
    "📊 Evaluation Metrics\n",
    "\n",
    "We assess the performance of each model using the following metrics:\n",
    "\n",
    "- Accuracy\n",
    "\n",
    "- Precision\n",
    "\n",
    "- Recall\n",
    "\n",
    "- F1 Score\n",
    "\n",
    "- Confusion Matrix"
   ]
  },
  {
   "cell_type": "markdown",
   "id": "e1ebc27b-5a7d-4873-9aa4-64238ac850a3",
   "metadata": {},
   "source": [
    "Outcome\n",
    "\n",
    "By evaluating and comparing the models, we aim to select the most effective algorithm for predicting password strength. This project provides valuable insights for security-focused applications, enabling better user guidance and automated password evaluation systems."
   ]
  },
  {
   "cell_type": "code",
   "execution_count": 60,
   "id": "3850a263-93d8-4b7f-8428-aca862454a99",
   "metadata": {},
   "outputs": [],
   "source": [
    "import pandas as pd\n",
    "import numpy as np\n",
    "import re"
   ]
  },
  {
   "cell_type": "code",
   "execution_count": 61,
   "id": "a14447d8-d360-4cef-8745-c72164a414b8",
   "metadata": {},
   "outputs": [],
   "source": [
    "import pandas as pd\n",
    "\n",
    "clean_rows = []\n",
    "with open(\"/Users/pravaliparvataneni/Downloads/data 2.csv\", \"r\") as f:\n",
    "    for line in f:\n",
    "        parts = line.strip().split(\",\")\n",
    "        if len(parts) == 2:  # Only keep rows with 2 parts (password, strength)\n",
    "            clean_rows.append(parts)"
   ]
  },
  {
   "cell_type": "code",
   "execution_count": 62,
   "id": "9f262dac-9f0b-43c2-a557-db6a0f86bfe5",
   "metadata": {},
   "outputs": [],
   "source": [
    "# Step 2: Convert to DataFrame (skip the header row)\n",
    "data = pd.DataFrame(clean_rows[1:], columns=[\"password\", \"strength\"])"
   ]
  },
  {
   "cell_type": "code",
   "execution_count": 63,
   "id": "3c1f3a8e-563c-4599-950d-963d3afeddb4",
   "metadata": {},
   "outputs": [
    {
     "data": {
      "text/plain": [
       "password    0\n",
       "strength    0\n",
       "dtype: int64"
      ]
     },
     "execution_count": 63,
     "metadata": {},
     "output_type": "execute_result"
    }
   ],
   "source": [
    "data.isna().sum()"
   ]
  },
  {
   "cell_type": "code",
   "execution_count": 64,
   "id": "e14d4f8c-e773-449e-9848-dc5350f67702",
   "metadata": {},
   "outputs": [],
   "source": [
    "data = data.dropna()"
   ]
  },
  {
   "cell_type": "code",
   "execution_count": 65,
   "id": "03547a27-c1ed-4cc0-b355-2b6444679163",
   "metadata": {},
   "outputs": [
    {
     "name": "stdout",
     "output_type": "stream",
     "text": [
      "<class 'pandas.core.frame.DataFrame'>\n",
      "RangeIndex: 669640 entries, 0 to 669639\n",
      "Data columns (total 2 columns):\n",
      " #   Column    Non-Null Count   Dtype \n",
      "---  ------    --------------   ----- \n",
      " 0   password  669640 non-null  object\n",
      " 1   strength  669640 non-null  object\n",
      "dtypes: object(2)\n",
      "memory usage: 10.2+ MB\n"
     ]
    }
   ],
   "source": [
    "data.info()"
   ]
  },
  {
   "cell_type": "code",
   "execution_count": 66,
   "id": "efbd9689-66fd-4997-9323-e2aed365648a",
   "metadata": {},
   "outputs": [
    {
     "name": "stderr",
     "output_type": "stream",
     "text": [
      "/var/folders/f8/mj2vjl493b1362dvk6tb7bvr0000gn/T/ipykernel_3438/3117904843.py:2: FutureWarning: \n",
      "\n",
      "Passing `palette` without assigning `hue` is deprecated and will be removed in v0.14.0. Assign the `x` variable to `hue` and set `legend=False` for the same effect.\n",
      "\n",
      "  sns.countplot(x='strength', data=data, palette={'0': \"red\", '1': \"yellow\", '2': \"green\"})\n"
     ]
    },
    {
     "data": {
      "image/png": "[encoded data removed]",
      "text/plain": [
       "<Figure size 800x500 with 1 Axes>"
      ]
     },
     "metadata": {},
     "output_type": "display_data"
    }
   ],
   "source": [
    "plt.figure(figsize=(8, 5))\n",
    "sns.countplot(x='strength', data=data, palette={'0': \"red\", '1': \"yellow\", '2': \"green\"})\n",
    "plt.title('Distribution of password strength')\n",
    "plt.xlabel('Password strength')\n",
    "plt.ylabel('Count')\n",
    "plt.show()"
   ]
  },
  {
   "cell_type": "code",
   "execution_count": 67,
   "id": "f542d05c-908b-4189-9ddd-bbefdbda2c0f",
   "metadata": {},
   "outputs": [],
   "source": [
    "# Step 3: Convert 'strength' column to integers\n",
    "data[\"strength\"] = data[\"strength\"].astype(int)"
   ]
  },
  {
   "cell_type": "code",
   "execution_count": 68,
   "id": "64f32ba7-9081-4a67-8755-48c0e189ef5b",
   "metadata": {},
   "outputs": [],
   "source": [
    "# Step 4: Filter to keep only strength values 0, 1, or 2\n",
    "data = data[data[\"strength\"].isin([0, 1, 2])]"
   ]
  },
  {
   "cell_type": "code",
   "execution_count": 69,
   "id": "6d067d5d-d888-48a0-83be-0af5addc017a",
   "metadata": {},
   "outputs": [],
   "source": [
    "# Step 5: Define feature extraction function\n",
    "def extract_features(pw):\n",
    "    return {\n",
    "        'length': len(pw),\n",
    "        'has_digit': int(any(char.isdigit() for char in pw)),\n",
    "        'has_upper': int(any(char.isupper() for char in pw)),\n",
    "        'has_special': int(bool(re.search(r'[^A-Za-z0-9]', pw)))\n",
    "    }"
   ]
  },
  {
   "cell_type": "code",
   "execution_count": 70,
   "id": "bcc93bf6-de3f-43f6-9c07-4be5ac61c534",
   "metadata": {},
   "outputs": [],
   "source": [
    "# Step 6: Apply feature extraction to each password\n",
    "features = data['password'].apply(extract_features)\n",
    "X = pd.DataFrame(features.tolist())\n",
    "y = data['strength']"
   ]
  },
  {
   "cell_type": "code",
   "execution_count": 71,
   "id": "cc7b2295-bb4a-494d-a4fc-6f3699b4380e",
   "metadata": {},
   "outputs": [],
   "source": [
    "# Step 7: Train-test split\n",
    "X_train, X_test, y_train, y_test = train_test_split(\n",
    "    X, y, test_size=0.2, random_state=42\n",
    ")"
   ]
  },
  {
   "cell_type": "markdown",
   "id": "3c7f96e9-1376-43aa-a33d-f61b10594107",
   "metadata": {},
   "source": [
    "# Logistic Regression"
   ]
  },
  {
   "cell_type": "code",
   "execution_count": 72,
   "id": "8d70b613-95ef-42aa-b884-cae2af0c2637",
   "metadata": {},
   "outputs": [
    {
     "name": "stdout",
     "output_type": "stream",
     "text": [
      "✅ Confusion Matrix:\n",
      " [[17833     0     0]\n",
      " [    0 99516     9]\n",
      " [    0     0 16570]]\n",
      "\n",
      "✅ Classification Report:\n",
      "               precision    recall  f1-score   support\n",
      "\n",
      "           0       1.00      1.00      1.00     17833\n",
      "           1       1.00      1.00      1.00     99525\n",
      "           2       1.00      1.00      1.00     16570\n",
      "\n",
      "    accuracy                           1.00    133928\n",
      "   macro avg       1.00      1.00      1.00    133928\n",
      "weighted avg       1.00      1.00      1.00    133928\n",
      "\n",
      "\n",
      "✅ Accuracy Score: 0.9999327997132788\n"
     ]
    }
   ],
   "source": [
    "from sklearn.linear_model import LogisticRegression\n",
    "from sklearn.metrics import confusion_matrix, classification_report, accuracy_score\n",
    "\n",
    "# Train Logistic Regression\n",
    "lr = LogisticRegression(max_iter=1000, random_state=42)\n",
    "lr.fit(X_train, y_train)\n",
    "\n",
    "# Predict\n",
    "y_pred_lr = lr.predict(X_test)\n",
    "\n",
    "# Evaluation\n",
    "print(\"✅ Confusion Matrix:\\n\", confusion_matrix(y_test, y_pred_lr))\n",
    "print(\"\\n✅ Classification Report:\\n\", classification_report(y_test, y_pred_lr))\n",
    "print(\"\\n✅ Accuracy Score:\", accuracy_score(y_test, y_pred_lr))\n"
   ]
  },
  {
   "cell_type": "markdown",
   "id": "8cfe7503-44f7-43ff-bd4d-afa971b34099",
   "metadata": {},
   "source": [
    "# KNN"
   ]
  },
  {
   "cell_type": "code",
   "execution_count": 73,
   "id": "a780263e-a8bb-48b1-964e-d95eb8cc5973",
   "metadata": {},
   "outputs": [
    {
     "name": "stdout",
     "output_type": "stream",
     "text": [
      "✅ Confusion Matrix:\n",
      " [[17833     0     0]\n",
      " [    0 99525     0]\n",
      " [    0     0 16570]]\n",
      "\n",
      "✅ Classification Report:\n",
      "               precision    recall  f1-score   support\n",
      "\n",
      "           0       1.00      1.00      1.00     17833\n",
      "           1       1.00      1.00      1.00     99525\n",
      "           2       1.00      1.00      1.00     16570\n",
      "\n",
      "    accuracy                           1.00    133928\n",
      "   macro avg       1.00      1.00      1.00    133928\n",
      "weighted avg       1.00      1.00      1.00    133928\n",
      "\n",
      "\n",
      "✅ Accuracy Score: 1.0\n"
     ]
    }
   ],
   "source": [
    "from sklearn.neighbors import KNeighborsClassifier\n",
    "from sklearn.metrics import confusion_matrix, classification_report, accuracy_score\n",
    "\n",
    "# Train KNN model\n",
    "knn = KNeighborsClassifier(n_neighbors=5)  # You can tune this value\n",
    "knn.fit(X_train, y_train)\n",
    "\n",
    "# Predict\n",
    "y_pred_knn = knn.predict(X_test)\n",
    "\n",
    "# Evaluation\n",
    "print(\"✅ Confusion Matrix:\\n\", confusion_matrix(y_test, y_pred_knn))\n",
    "print(\"\\n✅ Classification Report:\\n\", classification_report(y_test, y_pred_knn))\n",
    "print(\"\\n✅ Accuracy Score:\", accuracy_score(y_test, y_pred_knn))"
   ]
  },
  {
   "cell_type": "markdown",
   "id": "106b8d51-1776-4571-9389-e38ce22ea184",
   "metadata": {},
   "source": [
    "# Naive Bayes"
   ]
  },
  {
   "cell_type": "code",
   "execution_count": 74,
   "id": "96eb681b-b423-46e8-b2af-d667ff58274d",
   "metadata": {},
   "outputs": [
    {
     "name": "stdout",
     "output_type": "stream",
     "text": [
      "✅ Confusion Matrix:\n",
      " [[    0 17516   317]\n",
      " [    0 97753  1772]\n",
      " [    0  1302 15268]]\n",
      "\n",
      "✅ Classification Report:\n",
      "               precision    recall  f1-score   support\n",
      "\n",
      "           0       0.00      0.00      0.00     17833\n",
      "           1       0.84      0.98      0.90     99525\n",
      "           2       0.88      0.92      0.90     16570\n",
      "\n",
      "    accuracy                           0.84    133928\n",
      "   macro avg       0.57      0.63      0.60    133928\n",
      "weighted avg       0.73      0.84      0.78    133928\n",
      "\n",
      "\n",
      "✅ Accuracy Score: 0.8438937339465982\n"
     ]
    },
    {
     "name": "stderr",
     "output_type": "stream",
     "text": [
      "/Users/pravaliparvataneni/tfenv/lib/python3.10/site-packages/sklearn/metrics/_classification.py:1565: UndefinedMetricWarning: Precision is ill-defined and being set to 0.0 in labels with no predicted samples. Use `zero_division` parameter to control this behavior.\n",
      "  _warn_prf(average, modifier, f\"{metric.capitalize()} is\", len(result))\n",
      "/Users/pravaliparvataneni/tfenv/lib/python3.10/site-packages/sklearn/metrics/_classification.py:1565: UndefinedMetricWarning: Precision is ill-defined and being set to 0.0 in labels with no predicted samples. Use `zero_division` parameter to control this behavior.\n",
      "  _warn_prf(average, modifier, f\"{metric.capitalize()} is\", len(result))\n",
      "/Users/pravaliparvataneni/tfenv/lib/python3.10/site-packages/sklearn/metrics/_classification.py:1565: UndefinedMetricWarning: Precision is ill-defined and being set to 0.0 in labels with no predicted samples. Use `zero_division` parameter to control this behavior.\n",
      "  _warn_prf(average, modifier, f\"{metric.capitalize()} is\", len(result))\n"
     ]
    }
   ],
   "source": [
    "from sklearn.naive_bayes import MultinomialNB\n",
    "from sklearn.metrics import confusion_matrix, classification_report, accuracy_score\n",
    "\n",
    "# Train Naive Bayes model\n",
    "nb = MultinomialNB()\n",
    "nb.fit(X_train, y_train)\n",
    "\n",
    "# Predict\n",
    "y_pred_nb = nb.predict(X_test)\n",
    "\n",
    "# Evaluation\n",
    "print(\"✅ Confusion Matrix:\\n\", confusion_matrix(y_test, y_pred_nb))\n",
    "print(\"\\n✅ Classification Report:\\n\", classification_report(y_test, y_pred_nb))\n",
    "print(\"\\n✅ Accuracy Score:\", accuracy_score(y_test, y_pred_nb))\n"
   ]
  },
  {
   "cell_type": "markdown",
   "id": "ba4e6f89-11d7-4d6b-b9f5-965a77ffd8e0",
   "metadata": {},
   "source": [
    "# SVM"
   ]
  },
  {
   "cell_type": "code",
   "execution_count": 75,
   "id": "afbf56e8-55c9-486d-a293-f84c4e992893",
   "metadata": {},
   "outputs": [
    {
     "name": "stdout",
     "output_type": "stream",
     "text": [
      "✅ Confusion Matrix:\n",
      " [[17833     0     0]\n",
      " [    0 99525     0]\n",
      " [    0     0 16570]]\n",
      "\n",
      "✅ Classification Report:\n",
      "               precision    recall  f1-score   support\n",
      "\n",
      "           0       1.00      1.00      1.00     17833\n",
      "           1       1.00      1.00      1.00     99525\n",
      "           2       1.00      1.00      1.00     16570\n",
      "\n",
      "    accuracy                           1.00    133928\n",
      "   macro avg       1.00      1.00      1.00    133928\n",
      "weighted avg       1.00      1.00      1.00    133928\n",
      "\n",
      "\n",
      "✅ Accuracy Score: 1.0\n"
     ]
    }
   ],
   "source": [
    "from sklearn.svm import SVC\n",
    "from sklearn.metrics import confusion_matrix, classification_report, accuracy_score\n",
    "\n",
    "# Train SVM model\n",
    "svm = SVC(kernel='linear', random_state=42)  # You can also try 'rbf' or 'poly'\n",
    "svm.fit(X_train, y_train)\n",
    "\n",
    "# Predict\n",
    "y_pred_svm = svm.predict(X_test)\n",
    "\n",
    "# Evaluation\n",
    "print(\"✅ Confusion Matrix:\\n\", confusion_matrix(y_test, y_pred_svm))\n",
    "print(\"\\n✅ Classification Report:\\n\", classification_report(y_test, y_pred_svm))\n",
    "print(\"\\n✅ Accuracy Score:\", accuracy_score(y_test, y_pred_svm))\n"
   ]
  },
  {
   "cell_type": "markdown",
   "id": "ab4ab324-bee9-4e83-89ea-ab24588f68d5",
   "metadata": {},
   "source": [
    "# Decision Tree"
   ]
  },
  {
   "cell_type": "code",
   "execution_count": 76,
   "id": "06e9d77c-5faa-4b9a-9544-f3219b25ba4b",
   "metadata": {},
   "outputs": [
    {
     "name": "stdout",
     "output_type": "stream",
     "text": [
      "✅ Confusion Matrix:\n",
      " [[17833     0     0]\n",
      " [    0 99525     0]\n",
      " [    0     0 16570]]\n",
      "\n",
      "✅ Classification Report:\n",
      "               precision    recall  f1-score   support\n",
      "\n",
      "           0       1.00      1.00      1.00     17833\n",
      "           1       1.00      1.00      1.00     99525\n",
      "           2       1.00      1.00      1.00     16570\n",
      "\n",
      "    accuracy                           1.00    133928\n",
      "   macro avg       1.00      1.00      1.00    133928\n",
      "weighted avg       1.00      1.00      1.00    133928\n",
      "\n",
      "\n",
      "✅ Accuracy Score: 1.0\n"
     ]
    }
   ],
   "source": [
    "from sklearn.tree import DecisionTreeClassifier\n",
    "from sklearn.metrics import confusion_matrix, classification_report, accuracy_score\n",
    "\n",
    "# Train Decision Tree model\n",
    "dt = DecisionTreeClassifier(random_state=42)\n",
    "dt.fit(X_train, y_train)\n",
    "\n",
    "# Predict\n",
    "y_pred_dt = dt.predict(X_test)\n",
    "\n",
    "# Evaluation\n",
    "print(\"✅ Confusion Matrix:\\n\", confusion_matrix(y_test, y_pred_dt))\n",
    "print(\"\\n✅ Classification Report:\\n\", classification_report(y_test, y_pred_dt))\n",
    "print(\"\\n✅ Accuracy Score:\", accuracy_score(y_test, y_pred_dt))\n"
   ]
  },
  {
   "cell_type": "markdown",
   "id": "b0614e65-9c5c-403a-927a-b069d7bd8963",
   "metadata": {},
   "source": [
    "# Random Forest"
   ]
  },
  {
   "cell_type": "code",
   "execution_count": 77,
   "id": "5ef98af0-6e87-4f3b-9242-0ac30ec96860",
   "metadata": {},
   "outputs": [
    {
     "name": "stdout",
     "output_type": "stream",
     "text": [
      "✅ Confusion Matrix:\n",
      " [[17833     0     0]\n",
      " [    0 99525     0]\n",
      " [    0     0 16570]]\n",
      "\n",
      "✅ Classification Report:\n",
      "               precision    recall  f1-score   support\n",
      "\n",
      "           0       1.00      1.00      1.00     17833\n",
      "           1       1.00      1.00      1.00     99525\n",
      "           2       1.00      1.00      1.00     16570\n",
      "\n",
      "    accuracy                           1.00    133928\n",
      "   macro avg       1.00      1.00      1.00    133928\n",
      "weighted avg       1.00      1.00      1.00    133928\n",
      "\n",
      "\n",
      "✅ Accuracy Score: 1.0\n"
     ]
    }
   ],
   "source": [
    "from sklearn.ensemble import RandomForestClassifier\n",
    "from sklearn.metrics import confusion_matrix, classification_report, accuracy_score\n",
    "\n",
    "# Train the Random Forest model\n",
    "rf = RandomForestClassifier(n_estimators=100, random_state=42)\n",
    "rf.fit(X_train, y_train)\n",
    "\n",
    "# Predict on test set\n",
    "y_pred_rf = rf.predict(X_test)\n",
    "\n",
    "# Evaluation\n",
    "print(\"✅ Confusion Matrix:\\n\", confusion_matrix(y_test, y_pred_rf))\n",
    "print(\"\\n✅ Classification Report:\\n\", classification_report(y_test, y_pred_rf))\n",
    "print(\"\\n✅ Accuracy Score:\", accuracy_score(y_test, y_pred_rf))\n"
   ]
  },
  {
   "cell_type": "markdown",
   "id": "2078dc77-6038-4076-acb4-1830b0ab0c75",
   "metadata": {},
   "source": [
    "# AdaBoost"
   ]
  },
  {
   "cell_type": "code",
   "execution_count": 78,
   "id": "45d0d465-43aa-4f12-af1d-0fb1d76a7fc6",
   "metadata": {},
   "outputs": [
    {
     "name": "stdout",
     "output_type": "stream",
     "text": [
      "✅ Confusion Matrix:\n",
      " [[17833     0     0]\n",
      " [    0 99525     0]\n",
      " [    0     0 16570]]\n",
      "\n",
      "✅ Classification Report:\n",
      "               precision    recall  f1-score   support\n",
      "\n",
      "           0       1.00      1.00      1.00     17833\n",
      "           1       1.00      1.00      1.00     99525\n",
      "           2       1.00      1.00      1.00     16570\n",
      "\n",
      "    accuracy                           1.00    133928\n",
      "   macro avg       1.00      1.00      1.00    133928\n",
      "weighted avg       1.00      1.00      1.00    133928\n",
      "\n",
      "\n",
      "✅ Accuracy Score: 1.0\n"
     ]
    }
   ],
   "source": [
    "from sklearn.ensemble import AdaBoostClassifier\n",
    "from sklearn.metrics import confusion_matrix, classification_report, accuracy_score\n",
    "\n",
    "# Train AdaBoost model\n",
    "ab = AdaBoostClassifier(n_estimators=100, random_state=42)\n",
    "ab.fit(X_train, y_train)\n",
    "\n",
    "# Predict\n",
    "y_pred_ada = ab.predict(X_test)\n",
    "\n",
    "# Evaluation\n",
    "print(\"✅ Confusion Matrix:\\n\", confusion_matrix(y_test, y_pred_ada))\n",
    "print(\"\\n✅ Classification Report:\\n\", classification_report(y_test, y_pred_ada))\n",
    "print(\"\\n✅ Accuracy Score:\", accuracy_score(y_test, y_pred_ada))\n"
   ]
  },
  {
   "cell_type": "markdown",
   "id": "0f438374-d47e-4714-90ab-b90c855fe966",
   "metadata": {},
   "source": [
    "# XGBoost"
   ]
  },
  {
   "cell_type": "code",
   "execution_count": 79,
   "id": "bd812cad-596e-47b9-903d-f5e256bb6f88",
   "metadata": {},
   "outputs": [
    {
     "name": "stderr",
     "output_type": "stream",
     "text": [
      "/Users/pravaliparvataneni/tfenv/lib/python3.10/site-packages/xgboost/training.py:183: UserWarning: [15:34:50] WARNING: /Users/runner/work/xgboost/xgboost/src/learner.cc:738: \n",
      "Parameters: { \"use_label_encoder\" } are not used.\n",
      "\n",
      "  bst.update(dtrain, iteration=i, fobj=obj)\n"
     ]
    },
    {
     "name": "stdout",
     "output_type": "stream",
     "text": [
      "✅ Confusion Matrix:\n",
      " [[17833     0     0]\n",
      " [    0 99525     0]\n",
      " [    0     0 16570]]\n",
      "\n",
      "✅ Classification Report:\n",
      "               precision    recall  f1-score   support\n",
      "\n",
      "           0       1.00      1.00      1.00     17833\n",
      "           1       1.00      1.00      1.00     99525\n",
      "           2       1.00      1.00      1.00     16570\n",
      "\n",
      "    accuracy                           1.00    133928\n",
      "   macro avg       1.00      1.00      1.00    133928\n",
      "weighted avg       1.00      1.00      1.00    133928\n",
      "\n",
      "\n",
      "✅ Accuracy Score: 1.0\n"
     ]
    }
   ],
   "source": [
    "from xgboost import XGBClassifier\n",
    "from sklearn.metrics import confusion_matrix, classification_report, accuracy_score\n",
    "\n",
    "# Train XGBoost model\n",
    "xgb = XGBClassifier(use_label_encoder=False, eval_metric='mlogloss', random_state=42)\n",
    "xgb.fit(X_train, y_train)\n",
    "\n",
    "# Predict\n",
    "y_pred_xgb = xgb.predict(X_test)\n",
    "\n",
    "# Evaluation\n",
    "print(\"✅ Confusion Matrix:\\n\", confusion_matrix(y_test, y_pred_xgb))\n",
    "print(\"\\n✅ Classification Report:\\n\", classification_report(y_test, y_pred_xgb))\n",
    "print(\"\\n✅ Accuracy Score:\", accuracy_score(y_test, y_pred_xgb))\n"
   ]
  },
  {
   "cell_type": "code",
   "execution_count": 80,
   "id": "cf338141-0466-461c-9723-7f7143fa8213",
   "metadata": {},
   "outputs": [],
   "source": [
    "from sklearn.metrics import accuracy_score\n",
    "\n",
    "accuracies = {\n",
    "    \"Logistic Regression\": accuracy_score(y_test, y_pred_lr),\n",
    "    \"KNN\": accuracy_score(y_test, y_pred_knn),\n",
    "    \"Naive Bayes\": accuracy_score(y_test, y_pred_nb),\n",
    "    \"SVM\": accuracy_score(y_test, y_pred_svm),\n",
    "    \"Decision Tree\": accuracy_score(y_test, y_pred_dt),\n",
    "    \"Random Forest\": accuracy_score(y_test, y_pred_rf),\n",
    "    \"AdaBoost\": accuracy_score(y_test, y_pred_ada),\n",
    "    \"XGBoost\": accuracy_score(y_test, y_pred_xgb)\n",
    "}\n"
   ]
  },
  {
   "cell_type": "code",
   "execution_count": 81,
   "id": "a9ed5907-211e-4b4c-9c76-af222b38b8d5",
   "metadata": {},
   "outputs": [
    {
     "data": {
      "image/png": "[encoded data removed]",
      "text/plain": [
       "<Figure size 1200x600 with 1 Axes>"
      ]
     },
     "metadata": {},
     "output_type": "display_data"
    }
   ],
   "source": [
    "import matplotlib.pyplot as plt\n",
    "\n",
    "# Sort by accuracy for better visualization\n",
    "sorted_accuracies = dict(sorted(accuracies.items(), key=lambda x: x[1], reverse=True))\n",
    "\n",
    "# Plot\n",
    "plt.figure(figsize=(12, 6))\n",
    "plt.barh(list(sorted_accuracies.keys()), list(sorted_accuracies.values()), color='skyblue')\n",
    "plt.xlabel(\"Accuracy\")\n",
    "plt.title(\"Model Accuracy Comparison\")\n",
    "plt.xlim(0, 1)\n",
    "for index, value in enumerate(sorted_accuracies.values()):\n",
    "    plt.text(value + 0.01, index, f\"{value:.2f}\", va='center')\n",
    "plt.gca().invert_yaxis()  # Highest accuracy on top\n",
    "plt.tight_layout()\n",
    "plt.show()\n"
   ]
  },
  {
   "cell_type": "markdown",
   "id": "df4f97b6-229a-47de-aef8-e215d255395f",
   "metadata": {},
   "source": [
    "- High Accuracy Models: KNN, SVM, Decision Tree, Random Forest, AdaBoost, XGBoost, and Logistic Regression all have an accuracy of 1.00, indicating that they are highly effective in classifying password strength.\n",
    "- Lower Accuracy Model: Naive Bayes has an accuracy of 0.84, which is lower than the other models but still relatively high.\n",
    "- Model Selection: Based on the graph, it appears that any of the top seven models (KNN, SVM, Decision Tree, Random Forest, AdaBoost, XGBoost, or Logistic Regression) would be suitable for classifying password strength, as they all have perfect accuracy."
   ]
  }
 ],
 "metadata": {
  "kernelspec": {
   "display_name": "Python (tfenv)",
   "language": "python",
   "name": "tfenv"
  },
  "language_info": {
   "codemirror_mode": {
    "name": "ipython",
    "version": 3
   },
   "file_extension": ".py",
   "mimetype": "text/x-python",
   "name": "python",
   "nbconvert_exporter": "python",
   "pygments_lexer": "ipython3",
   "version": "3.10.12"
  }
 },
 "nbformat": 4,
 "nbformat_minor": 5
}
